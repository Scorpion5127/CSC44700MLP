{
 "cells": [
  {
   "cell_type": "code",
   "execution_count": 1,
   "id": "d819e420-ec66-4c67-90cf-a59da782527a",
   "metadata": {},
   "outputs": [],
   "source": [
    "import pandas as pd\n",
    "import matplotlib.pyplot as plt\n",
    "import matplotlib.dates as mdates\n",
    "import datetime as dt\n",
    "import numpy as np\n",
    "from tensorflow.keras.models import Sequential \n",
    "from tensorflow.keras.layers import Dense\n",
    "from tensorflow.keras.layers import LSTM\n",
    "from tensorflow.keras.layers import Dropout\n",
    "from tensorflow.keras.layers import *\n",
    "from tensorflow.keras.callbacks import EarlyStopping\n",
    "\n",
    "from sklearn.preprocessing import MinMaxScaler, StandardScaler\n",
    "from sklearn.metrics import mean_squared_error\n",
    "from sklearn.metrics import mean_absolute_percentage_error\n",
    "from sklearn.model_selection import train_test_split\n",
    "from sklearn.model_selection import TimeSeriesSplit\n",
    "from sklearn.metrics import mean_squared_error\n",
    "\n",
    "\n",
    "from tensorflow.keras.preprocessing.sequence import TimeseriesGenerator"
   ]
  },
  {
   "cell_type": "code",
   "execution_count": 2,
   "id": "6646df18-1bb5-41aa-bd19-b0b456b57eed",
   "metadata": {},
   "outputs": [],
   "source": [
    "NVDA_stock_data=pd.read_csv(\"NVDA (1).csv\", index_col='Date')\n",
    "NVDA_stock_data_test=pd.read_csv(\"NVDA (2).csv\", index_col='Date')"
   ]
  },
  {
   "cell_type": "code",
   "execution_count": 3,
   "id": "0c04ca9e-9560-42d2-bc1c-3f1f141cf67b",
   "metadata": {},
   "outputs": [],
   "source": [
    "NVDA_y_target = NVDA_stock_data.iloc[:, 0:4]\n",
    "NVDA_X_feat = NVDA_stock_data.iloc[:, 0:3]"
   ]
  },
  {
   "cell_type": "code",
   "execution_count": 4,
   "id": "95ca7970-b1a9-491f-9904-f5d75963d889",
   "metadata": {},
   "outputs": [],
   "source": [
    "NVDA_y_target_test = NVDA_stock_data_test.iloc[-5:,4]\n"
   ]
  },
  {
   "cell_type": "code",
   "execution_count": 5,
   "id": "e490b3dd-51c8-44bd-aad0-dde4cce68117",
   "metadata": {},
   "outputs": [
    {
     "name": "stdout",
     "output_type": "stream",
     "text": [
      "Date\n",
      "2024-04-22    795.179993\n",
      "2024-04-23    824.229980\n",
      "2024-04-24    796.770020\n",
      "2024-04-25    826.320007\n",
      "2024-04-26    877.349976\n",
      "Name: Adj Close, dtype: float64\n"
     ]
    }
   ],
   "source": [
    "print(NVDA_y_target_test)"
   ]
  },
  {
   "cell_type": "code",
   "execution_count": 6,
   "id": "d66d9960-a6ff-4b12-800b-e777daf9319c",
   "metadata": {},
   "outputs": [],
   "source": [
    "scaler= StandardScaler()\n",
    "# Fit and transform the feature data\n",
    "NVDA_X_ft = scaler.fit_transform(NVDA_X_feat)\n",
    "# Convert the transformed feature data back to a pandas DataFrame\n",
    "NVDA_X_feat = pd.DataFrame(data=NVDA_X_ft, columns=NVDA_X_feat.columns, index=NVDA_X_feat.index)\n"
   ]
  },
  {
   "cell_type": "code",
   "execution_count": 7,
   "id": "688b0c5b-f06f-415a-b860-12493743d484",
   "metadata": {},
   "outputs": [],
   "source": [
    "\n",
    "# Fit and transform the target data\n",
    "# Since `NVDA_y_target` is a pandas Series, reshape it to a 2D array to fit and transform\n",
    "\n",
    "NVDA_y_t= scaler.fit_transform(NVDA_y_target)\n",
    "# Convert the transformed target data back to a pandas Series\n",
    "NVDA_y_target = pd.DataFrame(data=NVDA_y_t, columns=NVDA_y_target.columns, index=NVDA_y_target.index)\n",
    "\n"
   ]
  },
  {
   "cell_type": "code",
   "execution_count": 8,
   "id": "c6ece45c-337c-4f5b-80df-0242b6c6ee5d",
   "metadata": {},
   "outputs": [
    {
     "name": "stdout",
     "output_type": "stream",
     "text": [
      "[[795.179993]\n",
      " [824.22998 ]\n",
      " [796.77002 ]\n",
      " [826.320007]\n",
      " [877.349976]]\n"
     ]
    }
   ],
   "source": [
    "test_array=NVDA_y_target_test.values.reshape(-1, 1)\n",
    "print(test_array)\n",
    "a=scaler.fit_transform(test_array)\n",
    "test_array=a"
   ]
  },
  {
   "cell_type": "code",
   "execution_count": 9,
   "id": "82e766e5-53cd-4dba-aadf-d803b74ab339",
   "metadata": {},
   "outputs": [
    {
     "data": {
      "text/plain": [
       "array([[-0.96790584],\n",
       "       [ 0.00874056],\n",
       "       [-0.91444991],\n",
       "       [ 0.07900625],\n",
       "       [ 1.79460894]])"
      ]
     },
     "execution_count": 9,
     "metadata": {},
     "output_type": "execute_result"
    }
   ],
   "source": [
    "test_array"
   ]
  },
  {
   "cell_type": "code",
   "execution_count": 10,
   "id": "00b22090-11a0-4420-a226-5c9b51e5ecca",
   "metadata": {},
   "outputs": [],
   "source": [
    "test_array=[-0.96790584,\n",
    "        0.00874056,\n",
    "       -0.91444991,\n",
    "        0.07900625, \n",
    "        1.79460894]"
   ]
  },
  {
   "cell_type": "code",
   "execution_count": 11,
   "id": "8c43b944-1ddf-4778-b28a-3a2a75c33f62",
   "metadata": {},
   "outputs": [],
   "source": [
    "unscaled_test_array=NVDA_y_target_test.values.reshape(-1)"
   ]
  },
  {
   "cell_type": "code",
   "execution_count": 12,
   "id": "d7ed0836-ee9a-44e5-a121-c5eab9bac5df",
   "metadata": {},
   "outputs": [
    {
     "data": {
      "text/html": [
       "<div>\n",
       "<style scoped>\n",
       "    .dataframe tbody tr th:only-of-type {\n",
       "        vertical-align: middle;\n",
       "    }\n",
       "\n",
       "    .dataframe tbody tr th {\n",
       "        vertical-align: top;\n",
       "    }\n",
       "\n",
       "    .dataframe thead th {\n",
       "        text-align: right;\n",
       "    }\n",
       "</style>\n",
       "<table border=\"1\" class=\"dataframe\">\n",
       "  <thead>\n",
       "    <tr style=\"text-align: right;\">\n",
       "      <th></th>\n",
       "      <th>Open</th>\n",
       "      <th>High</th>\n",
       "      <th>Low</th>\n",
       "    </tr>\n",
       "    <tr>\n",
       "      <th>Date</th>\n",
       "      <th></th>\n",
       "      <th></th>\n",
       "      <th></th>\n",
       "    </tr>\n",
       "  </thead>\n",
       "  <tbody>\n",
       "    <tr>\n",
       "      <th>2019-04-22</th>\n",
       "      <td>-0.944909</td>\n",
       "      <td>-0.945675</td>\n",
       "      <td>-0.942756</td>\n",
       "    </tr>\n",
       "    <tr>\n",
       "      <th>2019-04-23</th>\n",
       "      <td>-0.939964</td>\n",
       "      <td>-0.941906</td>\n",
       "      <td>-0.936491</td>\n",
       "    </tr>\n",
       "    <tr>\n",
       "      <th>2019-04-24</th>\n",
       "      <td>-0.937133</td>\n",
       "      <td>-0.940734</td>\n",
       "      <td>-0.936450</td>\n",
       "    </tr>\n",
       "    <tr>\n",
       "      <th>2019-04-25</th>\n",
       "      <td>-0.939219</td>\n",
       "      <td>-0.943877</td>\n",
       "      <td>-0.943281</td>\n",
       "    </tr>\n",
       "    <tr>\n",
       "      <th>2019-04-26</th>\n",
       "      <td>-0.951194</td>\n",
       "      <td>-0.956609</td>\n",
       "      <td>-0.957664</td>\n",
       "    </tr>\n",
       "    <tr>\n",
       "      <th>...</th>\n",
       "      <td>...</td>\n",
       "      <td>...</td>\n",
       "      <td>...</td>\n",
       "    </tr>\n",
       "    <tr>\n",
       "      <th>2024-04-16</th>\n",
       "      <td>3.487430</td>\n",
       "      <td>3.496644</td>\n",
       "      <td>3.563489</td>\n",
       "    </tr>\n",
       "    <tr>\n",
       "      <th>2024-04-17</th>\n",
       "      <td>3.590762</td>\n",
       "      <td>3.531643</td>\n",
       "      <td>3.446548</td>\n",
       "    </tr>\n",
       "    <tr>\n",
       "      <th>2024-04-18</th>\n",
       "      <td>3.408157</td>\n",
       "      <td>3.393937</td>\n",
       "      <td>3.360917</td>\n",
       "    </tr>\n",
       "    <tr>\n",
       "      <th>2024-04-19</th>\n",
       "      <td>3.309539</td>\n",
       "      <td>3.294533</td>\n",
       "      <td>2.984982</td>\n",
       "    </tr>\n",
       "    <tr>\n",
       "      <th>2024-04-22</th>\n",
       "      <td>3.036498</td>\n",
       "      <td>3.044264</td>\n",
       "      <td>3.028904</td>\n",
       "    </tr>\n",
       "  </tbody>\n",
       "</table>\n",
       "<p>1260 rows × 3 columns</p>\n",
       "</div>"
      ],
      "text/plain": [
       "                Open      High       Low\n",
       "Date                                    \n",
       "2019-04-22 -0.944909 -0.945675 -0.942756\n",
       "2019-04-23 -0.939964 -0.941906 -0.936491\n",
       "2019-04-24 -0.937133 -0.940734 -0.936450\n",
       "2019-04-25 -0.939219 -0.943877 -0.943281\n",
       "2019-04-26 -0.951194 -0.956609 -0.957664\n",
       "...              ...       ...       ...\n",
       "2024-04-16  3.487430  3.496644  3.563489\n",
       "2024-04-17  3.590762  3.531643  3.446548\n",
       "2024-04-18  3.408157  3.393937  3.360917\n",
       "2024-04-19  3.309539  3.294533  2.984982\n",
       "2024-04-22  3.036498  3.044264  3.028904\n",
       "\n",
       "[1260 rows x 3 columns]"
      ]
     },
     "execution_count": 12,
     "metadata": {},
     "output_type": "execute_result"
    }
   ],
   "source": [
    "NVDA_X_feat"
   ]
  },
  {
   "cell_type": "code",
   "execution_count": 14,
   "id": "f4bec5ab-2b46-4640-8997-259f4691b554",
   "metadata": {},
   "outputs": [
    {
     "name": "stdout",
     "output_type": "stream",
     "text": [
      "Epoch 1/10\n",
      "90/90 [==============================] - 5s 16ms/step - loss: 0.2417 - val_loss: 3.7776\n",
      "Epoch 2/10\n",
      "90/90 [==============================] - 1s 8ms/step - loss: 0.0420 - val_loss: 3.3640\n",
      "Epoch 3/10\n",
      "90/90 [==============================] - 1s 9ms/step - loss: 0.0422 - val_loss: 2.6990\n",
      "Epoch 4/10\n",
      "90/90 [==============================] - 1s 9ms/step - loss: 0.0438 - val_loss: 3.0223\n",
      "Epoch 5/10\n",
      "90/90 [==============================] - 1s 9ms/step - loss: 0.0317 - val_loss: 2.3292\n",
      "Epoch 6/10\n",
      "90/90 [==============================] - 1s 9ms/step - loss: 0.0269 - val_loss: 1.7148\n",
      "Epoch 7/10\n",
      "90/90 [==============================] - 1s 8ms/step - loss: 0.0187 - val_loss: 1.2734\n",
      "Epoch 8/10\n",
      "90/90 [==============================] - 1s 9ms/step - loss: 0.0186 - val_loss: 1.0593\n",
      "Epoch 9/10\n",
      "90/90 [==============================] - 1s 9ms/step - loss: 0.0144 - val_loss: 0.8642\n",
      "Epoch 10/10\n",
      "90/90 [==============================] - 1s 9ms/step - loss: 0.0118 - val_loss: 0.7394\n"
     ]
    },
    {
     "data": {
      "text/plain": [
       "<keras.callbacks.History at 0x181c728fe20>"
      ]
     },
     "execution_count": 14,
     "metadata": {},
     "output_type": "execute_result"
    }
   ],
   "source": [
    "length = 10\n",
    "batch_size = 1\n",
    "\n",
    "\n",
    "train_size5 = int(0.95 * len(NVDA_stock_data))\n",
    "train_X_feat5 = NVDA_X_feat.iloc[train_size5-100:train_size5, 0:3]\n",
    "train_y_target5 = NVDA_y_target.iloc[train_size5-100:train_size5, 0:4]\n",
    "val_X_feat5 = NVDA_X_feat.iloc[train_size5:, 0:3]\n",
    "val_y_target5 = NVDA_y_target.iloc[train_size5:, 0:4]\n",
    "\n",
    "\n",
    "train_generator5 = TimeseriesGenerator(train_X_feat5.values, train_y_target5.values, length=length, batch_size=batch_size)\n",
    "val_generator5 = TimeseriesGenerator(val_X_feat5.values, val_y_target5.values, length=length, batch_size=batch_size)\n",
    "\n",
    "\n",
    "model5 = Sequential([\n",
    "    LSTM(64, input_shape=(length, 3), return_sequences=True),\n",
    "    LSTM(32, return_sequences=False), \n",
    "    Dense(4)  \n",
    "])\n",
    "\n",
    "\n",
    "model5.compile(optimizer='adam', loss='mse')\n",
    "\n",
    "\n",
    "model5.fit(train_generator5, validation_data=val_generator5, epochs=10)"
   ]
  },
  {
   "cell_type": "code",
   "execution_count": null,
   "id": "b5d93df9-2978-402d-b85d-0a01026828e5",
   "metadata": {},
   "outputs": [],
   "source": []
  },
  {
   "cell_type": "code",
   "execution_count": 15,
   "id": "3fa37745-cce8-4997-bbc1-3d6e99cd41c5",
   "metadata": {},
   "outputs": [
    {
     "name": "stdout",
     "output_type": "stream",
     "text": [
      "[[3.5421035  3.47091381 3.39521359]\n",
      " [3.35158717 3.45839519 3.43321677]\n",
      " [3.54091157 3.63626809 3.61117189]\n",
      " [3.66440037 3.60622301 3.64458332]\n",
      " [3.63183479 3.62955586 3.55602053]\n",
      " [3.48743044 3.49664394 3.56348855]\n",
      " [3.59076237 3.53164321 3.44654805]\n",
      " [3.40815692 3.39393706 3.36091724]\n",
      " [3.30953912 3.29453266 2.98498188]\n",
      " [3.03649794 3.04426427 3.02890369]]\n"
     ]
    }
   ],
   "source": [
    "input_data = NVDA_X_feat.iloc[-10: , :3].values\n",
    "print(input_data)"
   ]
  },
  {
   "cell_type": "code",
   "execution_count": 31,
   "id": "10df5a75-372b-4102-a857-b39b98d87482",
   "metadata": {
    "scrolled": true
   },
   "outputs": [
    {
     "name": "stdout",
     "output_type": "stream",
     "text": [
      "(10, 3)\n",
      "[[1.21559572 1.21811032 1.2396462 ]\n",
      " [1.2097553  1.21199071 1.23384893]\n",
      " [1.20426965 1.20623994 1.22840309]\n",
      " [1.19911647 1.20083559 1.22328722]\n",
      " [1.19427538 1.19575655 1.21848011]\n",
      " [1.18972659 1.19098294 1.21396327]\n",
      " [1.18545163 1.1864959  1.20971811]\n",
      " [1.18143344 1.18227768 1.20572746]\n",
      " [1.17765617 1.17831182 1.20197594]\n",
      " [1.17410433 1.17458248 1.19844842]]\n",
      "(1260, 6)\n",
      "(1, 10, 3)\n",
      "[[[1.21559572 1.21811032 1.2396462 ]\n",
      "  [1.2097553  1.21199071 1.23384893]\n",
      "  [1.20426965 1.20623994 1.22840309]\n",
      "  [1.19911647 1.20083559 1.22328722]\n",
      "  [1.19427538 1.19575655 1.21848011]\n",
      "  [1.18972659 1.19098294 1.21396327]\n",
      "  [1.18545163 1.1864959  1.20971811]\n",
      "  [1.18143344 1.18227768 1.20572746]\n",
      "  [1.17765617 1.17831182 1.20197594]\n",
      "  [1.17410433 1.17458248 1.19844842]]]\n"
     ]
    }
   ],
   "source": [
    "input_data = NVDA_X_feat.iloc[-10: , :3].values\n",
    "print(input_data.shape)\n",
    "print(input_data)\n",
    "print(NVDA_stock_data.shape)\n",
    "input_data = input_data.reshape((1, 10, 3))\n",
    "print(input_data.shape)\n",
    "print(input_data)"
   ]
  },
  {
   "cell_type": "code",
   "execution_count": 32,
   "id": "94995741-a099-4b54-9832-458d44c154e2",
   "metadata": {},
   "outputs": [],
   "source": [
    "def shift_left(array, pred):\n",
    "    for i in range(9):\n",
    "        array[0,i,]= array[0,i+1,]\n",
    "    array[0,-1,]=pred[0,:3]\n",
    "    return array\n"
   ]
  },
  {
   "cell_type": "code",
   "execution_count": 33,
   "id": "6488c4ac-4951-4ae3-a3ef-e88bd49f77a9",
   "metadata": {},
   "outputs": [
    {
     "name": "stdout",
     "output_type": "stream",
     "text": [
      "1/1 [==============================] - 0s 22ms/step\n"
     ]
    },
    {
     "data": {
      "text/plain": [
       "array([1.1707641, 1.1710753, 1.195131 ], dtype=float32)"
      ]
     },
     "execution_count": 33,
     "metadata": {},
     "output_type": "execute_result"
    }
   ],
   "source": [
    "pred=model5.predict(input_data)\n",
    "pred[0,:3]"
   ]
  },
  {
   "cell_type": "code",
   "execution_count": 34,
   "id": "8fadcc0a-3cf2-44d0-b45c-f600bfbc7f42",
   "metadata": {},
   "outputs": [
    {
     "name": "stdout",
     "output_type": "stream",
     "text": [
      "[[[1.21559572 1.21811032 1.2396462 ]\n",
      "  [1.2097553  1.21199071 1.23384893]\n",
      "  [1.20426965 1.20623994 1.22840309]\n",
      "  [1.19911647 1.20083559 1.22328722]\n",
      "  [1.19427538 1.19575655 1.21848011]\n",
      "  [1.18972659 1.19098294 1.21396327]\n",
      "  [1.18545163 1.1864959  1.20971811]\n",
      "  [1.18143344 1.18227768 1.20572746]\n",
      "  [1.17765617 1.17831182 1.20197594]\n",
      "  [1.17410433 1.17458248 1.19844842]]]\n"
     ]
    }
   ],
   "source": [
    "print(input_data)"
   ]
  },
  {
   "cell_type": "code",
   "execution_count": 35,
   "id": "fc500f9f-afef-4771-8fa6-a4290adee4a4",
   "metadata": {
    "scrolled": true
   },
   "outputs": [
    {
     "name": "stdout",
     "output_type": "stream",
     "text": [
      "1/1 [==============================] - 0s 22ms/step\n",
      "[1.1707641 1.1710753 1.195131 ]\n",
      "[[[1.2097553  1.21199071 1.23384893]\n",
      "  [1.20426965 1.20623994 1.22840309]\n",
      "  [1.19911647 1.20083559 1.22328722]\n",
      "  [1.19427538 1.19575655 1.21848011]\n",
      "  [1.18972659 1.19098294 1.21396327]\n",
      "  [1.18545163 1.1864959  1.20971811]\n",
      "  [1.18143344 1.18227768 1.20572746]\n",
      "  [1.17765617 1.17831182 1.20197594]\n",
      "  [1.17410433 1.17458248 1.19844842]\n",
      "  [1.17076409 1.17107534 1.19513094]]]\n",
      "[1.18043447]\n",
      "1/1 [==============================] - 0s 26ms/step\n",
      "[1.1676226 1.1677761 1.1920102]\n",
      "[[[1.20426965 1.20623994 1.22840309]\n",
      "  [1.19911647 1.20083559 1.22328722]\n",
      "  [1.19427538 1.19575655 1.21848011]\n",
      "  [1.18972659 1.19098294 1.21396327]\n",
      "  [1.18545163 1.1864959  1.20971811]\n",
      "  [1.18143344 1.18227768 1.20572746]\n",
      "  [1.17765617 1.17831182 1.20197594]\n",
      "  [1.17410433 1.17458248 1.19844842]\n",
      "  [1.17076409 1.17107534 1.19513094]\n",
      "  [1.16762257 1.16777611 1.19201016]]]\n",
      "[1.18043447 1.177037  ]\n",
      "1/1 [==============================] - 0s 21ms/step\n",
      "[1.1646674 1.1646727 1.1890744]\n",
      "[[[1.19911647 1.20083559 1.22328722]\n",
      "  [1.19427538 1.19575655 1.21848011]\n",
      "  [1.18972659 1.19098294 1.21396327]\n",
      "  [1.18545163 1.1864959  1.20971811]\n",
      "  [1.18143344 1.18227768 1.20572746]\n",
      "  [1.17765617 1.17831182 1.20197594]\n",
      "  [1.17410433 1.17458248 1.19844842]\n",
      "  [1.17076409 1.17107534 1.19513094]\n",
      "  [1.16762257 1.16777611 1.19201016]\n",
      "  [1.16466737 1.16467273 1.1890744 ]]]\n",
      "[1.18043447 1.177037   1.17384207]\n",
      "1/1 [==============================] - 0s 21ms/step\n",
      "[1.1618869 1.1617527 1.1863122]\n",
      "[[[1.19427538 1.19575655 1.21848011]\n",
      "  [1.18972659 1.19098294 1.21396327]\n",
      "  [1.18545163 1.1864959  1.20971811]\n",
      "  [1.18143344 1.18227768 1.20572746]\n",
      "  [1.17765617 1.17831182 1.20197594]\n",
      "  [1.17410433 1.17458248 1.19844842]\n",
      "  [1.17076409 1.17107534 1.19513094]\n",
      "  [1.16762257 1.16777611 1.19201016]\n",
      "  [1.16466737 1.16467273 1.1890744 ]\n",
      "  [1.16188693 1.1617527  1.1863122 ]]]\n",
      "[1.18043447 1.177037   1.17384207 1.17083728]\n"
     ]
    }
   ],
   "source": [
    "predictions=np.array([])\n",
    "\n",
    "\n",
    "for i in range(4):\n",
    "    pred = model5.predict(input_data)\n",
    "    predictions = np.append(predictions,pred[0,3])\n",
    "    print(pred[0,:3])\n",
    "    input_data=shift_left(input_data,pred)\n",
    "    print(input_data)\n",
    "    print(predictions)"
   ]
  },
  {
   "cell_type": "code",
   "execution_count": 36,
   "id": "58041ea8-e3de-4cf0-9296-d082d6cdc574",
   "metadata": {},
   "outputs": [],
   "source": [
    "new_shape = (len(predictions), 1)\n",
    "predictions_2d = predictions.reshape(new_shape)\n",
    "predictions_unscaled= scaler.inverse_transform(predictions_2d)"
   ]
  },
  {
   "cell_type": "code",
   "execution_count": null,
   "id": "62b07142-30d8-4bab-b64e-7d5e15f91a65",
   "metadata": {},
   "outputs": [],
   "source": []
  },
  {
   "cell_type": "code",
   "execution_count": 37,
   "id": "37cc834c-99b4-4867-b966-b5b6d57e6018",
   "metadata": {},
   "outputs": [
    {
     "data": {
      "text/plain": [
       "[<matplotlib.lines.Line2D at 0x181d226fa60>]"
      ]
     },
     "execution_count": 37,
     "metadata": {},
     "output_type": "execute_result"
    },
    {
     "data": {
      "image/png": "[encoded data removed]",
      "text/plain": [
       "<Figure size 640x480 with 1 Axes>"
      ]
     },
     "metadata": {},
     "output_type": "display_data"
    }
   ],
   "source": [
    "\n",
    "plt.plot(range(4), predictions, label=\"\")\n",
    "plt.plot(range(4), test_array[1:], label=\"\")"
   ]
  },
  {
   "cell_type": "code",
   "execution_count": 39,
   "id": "1153d067-e2ec-4996-bb9f-eaabdd7fbeeb",
   "metadata": {},
   "outputs": [
    {
     "data": {
      "text/plain": [
       "[<matplotlib.lines.Line2D at 0x181d2324c70>]"
      ]
     },
     "execution_count": 39,
     "metadata": {},
     "output_type": "execute_result"
    },
    {
     "data": {
      "image/png": "[encoded data removed]",
      "text/plain": [
       "<Figure size 640x480 with 1 Axes>"
      ]
     },
     "metadata": {},
     "output_type": "display_data"
    }
   ],
   "source": [
    "plt.plot(range(4), test_array[1:], label=\"\")"
   ]
  },
  {
   "cell_type": "code",
   "execution_count": 24,
   "id": "f3c74527-69f2-4263-87b9-ec5f78c7d31c",
   "metadata": {},
   "outputs": [
    {
     "data": {
      "text/plain": [
       "<matplotlib.legend.Legend at 0x181ce46af70>"
      ]
     },
     "execution_count": 24,
     "metadata": {},
     "output_type": "execute_result"
    },
    {
     "data": {
      "image/png": "[encoded data removed]",
      "text/plain": [
       "<Figure size 640x480 with 1 Axes>"
      ]
     },
     "metadata": {},
     "output_type": "display_data"
    }
   ],
   "source": [
    "\n",
    "plt.plot(range(4), unscaled_test_array[1:], label=\"Actual\")\n",
    "plt.plot(range(4), predictions_unscaled, label=\"Prediction\")\n",
    "plt.legend()"
   ]
  },
  {
   "cell_type": "code",
   "execution_count": null,
   "id": "22376950-cba0-4162-bb45-98a2211e9d0b",
   "metadata": {},
   "outputs": [],
   "source": []
  },
  {
   "cell_type": "code",
   "execution_count": null,
   "id": "a0545908-9a1f-41f4-a672-08ef40a1d4cd",
   "metadata": {},
   "outputs": [],
   "source": []
  }
 ],
 "metadata": {
  "kernelspec": {
   "display_name": "Python 3 (ipykernel)",
   "language": "python",
   "name": "python3"
  },
  "language_info": {
   "codemirror_mode": {
    "name": "ipython",
    "version": 3
   },
   "file_extension": ".py",
   "mimetype": "text/x-python",
   "name": "python",
   "nbconvert_exporter": "python",
   "pygments_lexer": "ipython3",
   "version": "3.11.5"
  }
 },
 "nbformat": 4,
 "nbformat_minor": 5
}
