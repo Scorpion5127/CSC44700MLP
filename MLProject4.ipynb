{
 "cells": [
  {
   "cell_type": "code",
   "execution_count": 1,
   "id": "f7c4bac3-1648-49cd-9b28-238fa1623704",
   "metadata": {},
   "outputs": [],
   "source": [
    "import pandas as pd\n",
    "import matplotlib.pyplot as plt\n",
    "import matplotlib.dates as mdates\n",
    "import datetime as dt\n",
    "import numpy as np\n",
    "from tensorflow.keras.models import Sequential \n",
    "from tensorflow.keras.layers import Dense\n",
    "from tensorflow.keras.layers import LSTM\n",
    "from tensorflow.keras.layers import Dropout\n",
    "from tensorflow.keras.layers import *\n",
    "from tensorflow.keras.callbacks import EarlyStopping\n",
    "\n",
    "from sklearn.preprocessing import MinMaxScaler, StandardScaler\n",
    "from sklearn.metrics import mean_squared_error\n",
    "from sklearn.metrics import mean_absolute_percentage_error\n",
    "from sklearn.model_selection import train_test_split\n",
    "from sklearn.model_selection import TimeSeriesSplit\n",
    "from sklearn.metrics import mean_squared_error\n",
    "\n",
    "\n",
    "from tensorflow.keras.preprocessing.sequence import TimeseriesGenerator"
   ]
  },
  {
   "cell_type": "code",
   "execution_count": 2,
   "id": "8b31d5e6-0836-4e60-adc4-710b3e667b15",
   "metadata": {},
   "outputs": [
    {
     "data": {
      "text/html": [
       "<div>\n",
       "<style scoped>\n",
       "    .dataframe tbody tr th:only-of-type {\n",
       "        vertical-align: middle;\n",
       "    }\n",
       "\n",
       "    .dataframe tbody tr th {\n",
       "        vertical-align: top;\n",
       "    }\n",
       "\n",
       "    .dataframe thead th {\n",
       "        text-align: right;\n",
       "    }\n",
       "</style>\n",
       "<table border=\"1\" class=\"dataframe\">\n",
       "  <thead>\n",
       "    <tr style=\"text-align: right;\">\n",
       "      <th></th>\n",
       "      <th>Open</th>\n",
       "      <th>High</th>\n",
       "      <th>Low</th>\n",
       "      <th>Close</th>\n",
       "      <th>Adj Close</th>\n",
       "      <th>Volume</th>\n",
       "    </tr>\n",
       "    <tr>\n",
       "      <th>Date</th>\n",
       "      <th></th>\n",
       "      <th></th>\n",
       "      <th></th>\n",
       "      <th></th>\n",
       "      <th></th>\n",
       "      <th></th>\n",
       "    </tr>\n",
       "  </thead>\n",
       "  <tbody>\n",
       "    <tr>\n",
       "      <th>2019-04-22</th>\n",
       "      <td>46.337502</td>\n",
       "      <td>47.275002</td>\n",
       "      <td>46.020000</td>\n",
       "      <td>47.117500</td>\n",
       "      <td>46.797504</td>\n",
       "      <td>27993600</td>\n",
       "    </tr>\n",
       "    <tr>\n",
       "      <th>2019-04-23</th>\n",
       "      <td>47.250000</td>\n",
       "      <td>47.982498</td>\n",
       "      <td>47.152500</td>\n",
       "      <td>47.667500</td>\n",
       "      <td>47.343765</td>\n",
       "      <td>34685600</td>\n",
       "    </tr>\n",
       "    <tr>\n",
       "      <th>2019-04-24</th>\n",
       "      <td>47.772499</td>\n",
       "      <td>48.202499</td>\n",
       "      <td>47.160000</td>\n",
       "      <td>47.792500</td>\n",
       "      <td>47.467915</td>\n",
       "      <td>31820400</td>\n",
       "    </tr>\n",
       "    <tr>\n",
       "      <th>2019-04-25</th>\n",
       "      <td>47.387501</td>\n",
       "      <td>47.612499</td>\n",
       "      <td>45.924999</td>\n",
       "      <td>46.727501</td>\n",
       "      <td>46.410149</td>\n",
       "      <td>49929600</td>\n",
       "    </tr>\n",
       "    <tr>\n",
       "      <th>2019-04-26</th>\n",
       "      <td>45.177502</td>\n",
       "      <td>45.222500</td>\n",
       "      <td>43.325001</td>\n",
       "      <td>44.522499</td>\n",
       "      <td>44.220123</td>\n",
       "      <td>86898800</td>\n",
       "    </tr>\n",
       "    <tr>\n",
       "      <th>...</th>\n",
       "      <td>...</td>\n",
       "      <td>...</td>\n",
       "      <td>...</td>\n",
       "      <td>...</td>\n",
       "      <td>...</td>\n",
       "      <td>...</td>\n",
       "    </tr>\n",
       "    <tr>\n",
       "      <th>2024-04-16</th>\n",
       "      <td>864.330017</td>\n",
       "      <td>881.179993</td>\n",
       "      <td>860.640015</td>\n",
       "      <td>874.150024</td>\n",
       "      <td>874.150024</td>\n",
       "      <td>37045300</td>\n",
       "    </tr>\n",
       "    <tr>\n",
       "      <th>2024-04-17</th>\n",
       "      <td>883.400024</td>\n",
       "      <td>887.750000</td>\n",
       "      <td>839.500000</td>\n",
       "      <td>840.349976</td>\n",
       "      <td>840.349976</td>\n",
       "      <td>49540000</td>\n",
       "    </tr>\n",
       "    <tr>\n",
       "      <th>2024-04-18</th>\n",
       "      <td>849.700012</td>\n",
       "      <td>861.900024</td>\n",
       "      <td>824.020020</td>\n",
       "      <td>846.710022</td>\n",
       "      <td>846.710022</td>\n",
       "      <td>44726000</td>\n",
       "    </tr>\n",
       "    <tr>\n",
       "      <th>2024-04-19</th>\n",
       "      <td>831.500000</td>\n",
       "      <td>843.239990</td>\n",
       "      <td>756.059998</td>\n",
       "      <td>762.000000</td>\n",
       "      <td>762.000000</td>\n",
       "      <td>87190500</td>\n",
       "    </tr>\n",
       "    <tr>\n",
       "      <th>2024-04-22</th>\n",
       "      <td>781.109985</td>\n",
       "      <td>796.260010</td>\n",
       "      <td>764.000000</td>\n",
       "      <td>770.872986</td>\n",
       "      <td>770.872986</td>\n",
       "      <td>21089017</td>\n",
       "    </tr>\n",
       "  </tbody>\n",
       "</table>\n",
       "<p>1260 rows × 6 columns</p>\n",
       "</div>"
      ],
      "text/plain": [
       "                  Open        High         Low       Close   Adj Close  \\\n",
       "Date                                                                     \n",
       "2019-04-22   46.337502   47.275002   46.020000   47.117500   46.797504   \n",
       "2019-04-23   47.250000   47.982498   47.152500   47.667500   47.343765   \n",
       "2019-04-24   47.772499   48.202499   47.160000   47.792500   47.467915   \n",
       "2019-04-25   47.387501   47.612499   45.924999   46.727501   46.410149   \n",
       "2019-04-26   45.177502   45.222500   43.325001   44.522499   44.220123   \n",
       "...                ...         ...         ...         ...         ...   \n",
       "2024-04-16  864.330017  881.179993  860.640015  874.150024  874.150024   \n",
       "2024-04-17  883.400024  887.750000  839.500000  840.349976  840.349976   \n",
       "2024-04-18  849.700012  861.900024  824.020020  846.710022  846.710022   \n",
       "2024-04-19  831.500000  843.239990  756.059998  762.000000  762.000000   \n",
       "2024-04-22  781.109985  796.260010  764.000000  770.872986  770.872986   \n",
       "\n",
       "              Volume  \n",
       "Date                  \n",
       "2019-04-22  27993600  \n",
       "2019-04-23  34685600  \n",
       "2019-04-24  31820400  \n",
       "2019-04-25  49929600  \n",
       "2019-04-26  86898800  \n",
       "...              ...  \n",
       "2024-04-16  37045300  \n",
       "2024-04-17  49540000  \n",
       "2024-04-18  44726000  \n",
       "2024-04-19  87190500  \n",
       "2024-04-22  21089017  \n",
       "\n",
       "[1260 rows x 6 columns]"
      ]
     },
     "execution_count": 2,
     "metadata": {},
     "output_type": "execute_result"
    }
   ],
   "source": [
    "NVDA_stock_data=pd.read_csv(\"NVDA (1).csv\", index_col='Date')\n",
    "NVDA_stock_data"
   ]
  },
  {
   "cell_type": "code",
   "execution_count": 3,
   "id": "d36cd887-b973-4901-9063-213d92245fc9",
   "metadata": {},
   "outputs": [],
   "source": [
    "y = NVDA_stock_data['Close']\n",
    "X = NVDA_stock_data[['Open', 'High', 'Low']]"
   ]
  },
  {
   "cell_type": "code",
   "execution_count": 4,
   "id": "446bd1f7-200a-4612-9813-ca0cae3a4857",
   "metadata": {},
   "outputs": [],
   "source": [
    "NVDA_y_target = NVDA_stock_data['Close']\n",
    "NVDA_X_feat = NVDA_stock_data.iloc[:, 0:3]"
   ]
  },
  {
   "cell_type": "code",
   "execution_count": 5,
   "id": "ef4751a3-7001-4496-acb4-fbd9b0d8f681",
   "metadata": {},
   "outputs": [],
   "source": [
    "scaler= StandardScaler()\n",
    "X_scaled = scaler.fit_transform(X)\n",
    "y= y.values.reshape(-1,1)\n",
    "y_scaled =scaler.fit_transform(y)\n"
   ]
  },
  {
   "cell_type": "code",
   "execution_count": 6,
   "id": "b986d3c3-2713-4dbe-a69b-9a43d3abb8ef",
   "metadata": {},
   "outputs": [],
   "source": [
    "# Fit and transform the feature data\n",
    "NVDA_X_ft = scaler.fit_transform(NVDA_X_feat)\n",
    "# Convert the transformed feature data back to a pandas DataFrame\n",
    "NVDA_X_feat = pd.DataFrame(data=NVDA_X_ft, columns=NVDA_X_feat.columns, index=NVDA_X_feat.index)\n"
   ]
  },
  {
   "cell_type": "code",
   "execution_count": 7,
   "id": "eacbebd7-ad32-46f3-9fdf-b4769f8b475e",
   "metadata": {},
   "outputs": [],
   "source": [
    "# Fit and transform the target data\n",
    "# Since `NVDA_y_target` is a pandas Series, reshape it to a 2D array to fit and transform\n",
    "NVDA_y_target_reshaped = NVDA_y_target.values.reshape(-1, 1)\n",
    "NVDA_y_target_scaled = scaler.fit_transform(NVDA_y_target_reshaped)\n",
    "# Convert the transformed target data back to a pandas Series\n",
    "NVDA_y_target = pd.Series(NVDA_y_target_scaled.flatten(), index=NVDA_y_target.index)\n"
   ]
  },
  {
   "cell_type": "code",
   "execution_count": 8,
   "id": "407af5c2-94ff-4908-a367-11b01a5680e8",
   "metadata": {},
   "outputs": [],
   "source": [
    "X_train, X_test, y_train, y_test = train_test_split(X_scaled, y_scaled, test_size=0.2)\n"
   ]
  },
  {
   "cell_type": "code",
   "execution_count": 9,
   "id": "d630595a-10ac-4102-bd68-1c871511c9e3",
   "metadata": {},
   "outputs": [],
   "source": [
    "length=10\n",
    "model4 = Sequential([\n",
    "    LSTM(64, input_shape=(length, 3), return_sequences=True),\n",
    "    LSTM(32, return_sequences=False),  \n",
    "    Dense(1)  \n",
    "])"
   ]
  },
  {
   "cell_type": "code",
   "execution_count": 10,
   "id": "d523bda3-c1eb-44da-b262-e9ab85272f2e",
   "metadata": {},
   "outputs": [],
   "source": [
    "model5 = Sequential([\n",
    "    LSTM(64, input_shape=(length,3), return_sequences=True),\n",
    "    LSTM(32, return_sequences=False),  \n",
    "    Dense(1)  \n",
    "])"
   ]
  },
  {
   "cell_type": "code",
   "execution_count": 11,
   "id": "41795d66-4b00-4890-b2b7-5f9fffc4800f",
   "metadata": {},
   "outputs": [],
   "source": [
    "# Split data into training and validation sets\n",
    "train_size4 = int(0.2 * len(NVDA_stock_data))\n",
    "train_X_feat4 = NVDA_X_feat[:train_size4]\n",
    "train_y_target4 = NVDA_y_target[:train_size4]\n",
    "val_X_feat4 = NVDA_X_feat[train_size4:]\n",
    "val_y_target4 = NVDA_y_target[train_size4:]"
   ]
  },
  {
   "cell_type": "code",
   "execution_count": 12,
   "id": "8136621c-a323-4fdd-847c-6aa0a9105594",
   "metadata": {},
   "outputs": [],
   "source": [
    "# Split data into training and validation sets\n",
    "train_size5 = int(0.2 * len(NVDA_stock_data))\n",
    "train_X_feat5 = NVDA_X_feat[:train_size5]\n",
    "train_y_target5 = NVDA_y_target[:train_size5]\n",
    "val_X_feat5 = NVDA_X_feat[train_size5:]\n",
    "val_y_target5 = NVDA_y_target[train_size5:]"
   ]
  },
  {
   "cell_type": "code",
   "execution_count": 13,
   "id": "0bd7be15-b4af-4329-8e88-a29a219d2b75",
   "metadata": {},
   "outputs": [],
   "source": [
    "train_generator4 = TimeseriesGenerator(train_X_feat4, train_y_target4, length=length, batch_size=1)\n",
    "val_generator4 = TimeseriesGenerator(val_X_feat4, val_y_target4, length=length, batch_size=1)"
   ]
  },
  {
   "cell_type": "code",
   "execution_count": 14,
   "id": "24ad4042-7882-4183-a4f7-dbcc58c13e23",
   "metadata": {},
   "outputs": [],
   "source": [
    "train_generator5 = TimeseriesGenerator(X_train, y_train, length=length, batch_size=1)\n",
    "val_generator5 = TimeseriesGenerator(X_test, y_test, length=length, batch_size=1)"
   ]
  },
  {
   "cell_type": "code",
   "execution_count": 15,
   "id": "2c41e3ef-84d3-4eae-9d27-c3a46a644bc1",
   "metadata": {},
   "outputs": [
    {
     "name": "stdout",
     "output_type": "stream",
     "text": [
      "Epoch 1/10\n",
      "998/998 [==============================] - 13s 10ms/step - loss: 1.0416 - val_loss: 0.9026\n",
      "Epoch 2/10\n",
      "998/998 [==============================] - 9s 9ms/step - loss: 1.0352 - val_loss: 0.9113\n",
      "Epoch 3/10\n",
      "998/998 [==============================] - 9s 9ms/step - loss: 1.0360 - val_loss: 0.9044\n",
      "Epoch 4/10\n",
      "998/998 [==============================] - 9s 9ms/step - loss: 1.0339 - val_loss: 0.9079\n",
      "Epoch 5/10\n",
      "998/998 [==============================] - 10s 10ms/step - loss: 1.0349 - val_loss: 0.9081\n",
      "Epoch 6/10\n",
      "998/998 [==============================] - 10s 10ms/step - loss: 1.0298 - val_loss: 0.9331\n",
      "Epoch 7/10\n",
      "998/998 [==============================] - 10s 10ms/step - loss: 1.0354 - val_loss: 0.9143\n",
      "Epoch 8/10\n",
      "998/998 [==============================] - 10s 10ms/step - loss: 1.0310 - val_loss: 0.9095\n",
      "Epoch 9/10\n",
      "998/998 [==============================] - 9s 9ms/step - loss: 1.0291 - val_loss: 0.9167\n",
      "Epoch 10/10\n",
      "998/998 [==============================] - 10s 10ms/step - loss: 1.0280 - val_loss: 0.9324\n"
     ]
    },
    {
     "data": {
      "text/plain": [
       "<keras.callbacks.History at 0x2356d0ef5b0>"
      ]
     },
     "execution_count": 15,
     "metadata": {},
     "output_type": "execute_result"
    }
   ],
   "source": [
    "model5.compile(optimizer='adam', loss='mse')\n",
    "model5.fit(train_generator5, validation_data=val_generator5, epochs=10)"
   ]
  },
  {
   "cell_type": "code",
   "execution_count": 16,
   "id": "008cffd1-dea3-4905-8157-1b23f7b9664b",
   "metadata": {},
   "outputs": [
    {
     "name": "stderr",
     "output_type": "stream",
     "text": [
      "C:\\Users\\hamza\\anaconda3\\envs\\tf\\lib\\site-packages\\keras\\preprocessing\\sequence.py:189: FutureWarning: Series.__getitem__ treating keys as positions is deprecated. In a future version, integer keys will always be treated as labels (consistent with DataFrame behavior). To access a value by position, use `ser.iloc[pos]`\n",
      "  targets = np.array([self.targets[row] for row in rows])\n"
     ]
    },
    {
     "name": "stdout",
     "output_type": "stream",
     "text": [
      "998/998 [==============================] - 2s 2ms/step\n"
     ]
    }
   ],
   "source": [
    "pred_y5 = model5.predict(val_generator4)\n",
    "pred_y5 = pred_y5.reshape(-1)"
   ]
  },
  {
   "cell_type": "code",
   "execution_count": 17,
   "id": "cbac6913-0d03-4cf0-8bb1-3201582f9872",
   "metadata": {},
   "outputs": [],
   "source": [
    "NVDA_dates = [dt.datetime.strptime(d,'%Y-%m-%d').date() for d in NVDA_stock_data.index.values]"
   ]
  },
  {
   "cell_type": "code",
   "execution_count": 23,
   "id": "146f0ffa-bc37-44fa-858d-5ad4b5b24025",
   "metadata": {},
   "outputs": [
    {
     "data": {
      "image/png": "[encoded data removed]",
      "text/plain": [
       "<Figure size 640x480 with 1 Axes>"
      ]
     },
     "metadata": {},
     "output_type": "display_data"
    }
   ],
   "source": [
    "plt.plot(NVDA_dates[train_size4+10:], val_y_target4[10:], label=\"\")\n",
    "plt.plot(NVDA_dates[train_size4+10: ], pred_y5, label=\"\")\n",
    "plt.gcf().autofmt_xdate()"
   ]
  },
  {
   "cell_type": "code",
   "execution_count": null,
   "id": "56458e92-6d3a-4219-b94e-72c4610557ef",
   "metadata": {},
   "outputs": [],
   "source": []
  }
 ],
 "metadata": {
  "kernelspec": {
   "display_name": "Python 3 (ipykernel)",
   "language": "python",
   "name": "python3"
  },
  "language_info": {
   "codemirror_mode": {
    "name": "ipython",
    "version": 3
   },
   "file_extension": ".py",
   "mimetype": "text/x-python",
   "name": "python",
   "nbconvert_exporter": "python",
   "pygments_lexer": "ipython3",
   "version": "3.11.5"
  }
 },
 "nbformat": 4,
 "nbformat_minor": 5
}
